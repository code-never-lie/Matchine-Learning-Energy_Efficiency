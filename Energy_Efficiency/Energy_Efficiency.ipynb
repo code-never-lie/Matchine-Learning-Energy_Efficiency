{
  "cells": [
    {
      "cell_type": "markdown",
      "metadata": {
        "id": "T1RPOtNUGwmJ"
      },
      "source": [
        "**Google Drive mount**"
      ]
    },
    {
      "cell_type": "code",
      "execution_count": 1,
      "metadata": {
        "colab": {
          "base_uri": "https://localhost:8080/"
        },
        "id": "otmPGcy4GdLc",
        "outputId": "fb859e59-ecff-45a1-8b79-195f5a58e8cd"
      },
      "outputs": [
        {
          "name": "stdout",
          "output_type": "stream",
          "text": [
            "Drive already mounted at /content/gdrive; to attempt to forcibly remount, call drive.mount(\"/content/gdrive\", force_remount=True).\n"
          ]
        }
      ],
      "source": [
        "from google.colab import drive\n",
        "drive.mount('/content/gdrive')"
      ]
    },
    {
      "cell_type": "markdown",
      "metadata": {
        "id": "oI4GmJy-HkQz"
      },
      "source": [
        "**Import library**"
      ]
    },
    {
      "cell_type": "code",
      "execution_count": 2,
      "metadata": {
        "id": "JHlaAlFRhAwF"
      },
      "outputs": [],
      "source": [
        "import pandas as pd # for data set read\n",
        "import numpy as np  # for math opration "
      ]
    },
    {
      "cell_type": "code",
      "execution_count": 3,
      "metadata": {
        "colab": {
          "base_uri": "https://localhost:8080/",
          "height": 270
        },
        "id": "fRHtJM2GhCYk",
        "outputId": "9c6c0b8a-5b5e-419b-ab98-bbd06f87a29a"
      },
      "outputs": [
        {
          "data": {
            "text/html": [
              "\n",
              "  <div id=\"df-2b06f2b8-2bb6-4fa3-b71b-452f53734c99\">\n",
              "    <div class=\"colab-df-container\">\n",
              "      <div>\n",
              "<style scoped>\n",
              "    .dataframe tbody tr th:only-of-type {\n",
              "        vertical-align: middle;\n",
              "    }\n",
              "\n",
              "    .dataframe tbody tr th {\n",
              "        vertical-align: top;\n",
              "    }\n",
              "\n",
              "    .dataframe thead th {\n",
              "        text-align: right;\n",
              "    }\n",
              "</style>\n",
              "<table border=\"1\" class=\"dataframe\">\n",
              "  <thead>\n",
              "    <tr style=\"text-align: right;\">\n",
              "      <th></th>\n",
              "      <th>Relative_Compactness</th>\n",
              "      <th>Surface_Area</th>\n",
              "      <th>Wall_Area</th>\n",
              "      <th>Roof_Area</th>\n",
              "      <th>Overall_Height</th>\n",
              "      <th>Orientation</th>\n",
              "      <th>Glazing_Area</th>\n",
              "      <th>Glazing_Area_Distribution</th>\n",
              "      <th>Heating_Load</th>\n",
              "      <th>Cooling_Load</th>\n",
              "    </tr>\n",
              "  </thead>\n",
              "  <tbody>\n",
              "    <tr>\n",
              "      <th>0</th>\n",
              "      <td>0.98</td>\n",
              "      <td>514.5</td>\n",
              "      <td>294.0</td>\n",
              "      <td>110.25</td>\n",
              "      <td>7.0</td>\n",
              "      <td>2</td>\n",
              "      <td>0.0</td>\n",
              "      <td>0</td>\n",
              "      <td>15.55</td>\n",
              "      <td>21.33</td>\n",
              "    </tr>\n",
              "    <tr>\n",
              "      <th>1</th>\n",
              "      <td>0.98</td>\n",
              "      <td>514.5</td>\n",
              "      <td>294.0</td>\n",
              "      <td>110.25</td>\n",
              "      <td>7.0</td>\n",
              "      <td>3</td>\n",
              "      <td>0.0</td>\n",
              "      <td>0</td>\n",
              "      <td>15.55</td>\n",
              "      <td>21.33</td>\n",
              "    </tr>\n",
              "    <tr>\n",
              "      <th>2</th>\n",
              "      <td>0.98</td>\n",
              "      <td>514.5</td>\n",
              "      <td>294.0</td>\n",
              "      <td>110.25</td>\n",
              "      <td>7.0</td>\n",
              "      <td>4</td>\n",
              "      <td>0.0</td>\n",
              "      <td>0</td>\n",
              "      <td>15.55</td>\n",
              "      <td>21.33</td>\n",
              "    </tr>\n",
              "    <tr>\n",
              "      <th>3</th>\n",
              "      <td>0.98</td>\n",
              "      <td>514.5</td>\n",
              "      <td>294.0</td>\n",
              "      <td>110.25</td>\n",
              "      <td>7.0</td>\n",
              "      <td>5</td>\n",
              "      <td>0.0</td>\n",
              "      <td>0</td>\n",
              "      <td>15.55</td>\n",
              "      <td>21.33</td>\n",
              "    </tr>\n",
              "    <tr>\n",
              "      <th>4</th>\n",
              "      <td>0.90</td>\n",
              "      <td>563.5</td>\n",
              "      <td>318.5</td>\n",
              "      <td>122.50</td>\n",
              "      <td>7.0</td>\n",
              "      <td>2</td>\n",
              "      <td>0.0</td>\n",
              "      <td>0</td>\n",
              "      <td>20.84</td>\n",
              "      <td>28.28</td>\n",
              "    </tr>\n",
              "  </tbody>\n",
              "</table>\n",
              "</div>\n",
              "      <button class=\"colab-df-convert\" onclick=\"convertToInteractive('df-2b06f2b8-2bb6-4fa3-b71b-452f53734c99')\"\n",
              "              title=\"Convert this dataframe to an interactive table.\"\n",
              "              style=\"display:none;\">\n",
              "        \n",
              "  <svg xmlns=\"http://www.w3.org/2000/svg\" height=\"24px\"viewBox=\"0 0 24 24\"\n",
              "       width=\"24px\">\n",
              "    <path d=\"M0 0h24v24H0V0z\" fill=\"none\"/>\n",
              "    <path d=\"M18.56 5.44l.94 2.06.94-2.06 2.06-.94-2.06-.94-.94-2.06-.94 2.06-2.06.94zm-11 1L8.5 8.5l.94-2.06 2.06-.94-2.06-.94L8.5 2.5l-.94 2.06-2.06.94zm10 10l.94 2.06.94-2.06 2.06-.94-2.06-.94-.94-2.06-.94 2.06-2.06.94z\"/><path d=\"M17.41 7.96l-1.37-1.37c-.4-.4-.92-.59-1.43-.59-.52 0-1.04.2-1.43.59L10.3 9.45l-7.72 7.72c-.78.78-.78 2.05 0 2.83L4 21.41c.39.39.9.59 1.41.59.51 0 1.02-.2 1.41-.59l7.78-7.78 2.81-2.81c.8-.78.8-2.07 0-2.86zM5.41 20L4 18.59l7.72-7.72 1.47 1.35L5.41 20z\"/>\n",
              "  </svg>\n",
              "      </button>\n",
              "      \n",
              "  <style>\n",
              "    .colab-df-container {\n",
              "      display:flex;\n",
              "      flex-wrap:wrap;\n",
              "      gap: 12px;\n",
              "    }\n",
              "\n",
              "    .colab-df-convert {\n",
              "      background-color: #E8F0FE;\n",
              "      border: none;\n",
              "      border-radius: 50%;\n",
              "      cursor: pointer;\n",
              "      display: none;\n",
              "      fill: #1967D2;\n",
              "      height: 32px;\n",
              "      padding: 0 0 0 0;\n",
              "      width: 32px;\n",
              "    }\n",
              "\n",
              "    .colab-df-convert:hover {\n",
              "      background-color: #E2EBFA;\n",
              "      box-shadow: 0px 1px 2px rgba(60, 64, 67, 0.3), 0px 1px 3px 1px rgba(60, 64, 67, 0.15);\n",
              "      fill: #174EA6;\n",
              "    }\n",
              "\n",
              "    [theme=dark] .colab-df-convert {\n",
              "      background-color: #3B4455;\n",
              "      fill: #D2E3FC;\n",
              "    }\n",
              "\n",
              "    [theme=dark] .colab-df-convert:hover {\n",
              "      background-color: #434B5C;\n",
              "      box-shadow: 0px 1px 3px 1px rgba(0, 0, 0, 0.15);\n",
              "      filter: drop-shadow(0px 1px 2px rgba(0, 0, 0, 0.3));\n",
              "      fill: #FFFFFF;\n",
              "    }\n",
              "  </style>\n",
              "\n",
              "      <script>\n",
              "        const buttonEl =\n",
              "          document.querySelector('#df-2b06f2b8-2bb6-4fa3-b71b-452f53734c99 button.colab-df-convert');\n",
              "        buttonEl.style.display =\n",
              "          google.colab.kernel.accessAllowed ? 'block' : 'none';\n",
              "\n",
              "        async function convertToInteractive(key) {\n",
              "          const element = document.querySelector('#df-2b06f2b8-2bb6-4fa3-b71b-452f53734c99');\n",
              "          const dataTable =\n",
              "            await google.colab.kernel.invokeFunction('convertToInteractive',\n",
              "                                                     [key], {});\n",
              "          if (!dataTable) return;\n",
              "\n",
              "          const docLinkHtml = 'Like what you see? Visit the ' +\n",
              "            '<a target=\"_blank\" href=https://colab.research.google.com/notebooks/data_table.ipynb>data table notebook</a>'\n",
              "            + ' to learn more about interactive tables.';\n",
              "          element.innerHTML = '';\n",
              "          dataTable['output_type'] = 'display_data';\n",
              "          await google.colab.output.renderOutput(dataTable, element);\n",
              "          const docLink = document.createElement('div');\n",
              "          docLink.innerHTML = docLinkHtml;\n",
              "          element.appendChild(docLink);\n",
              "        }\n",
              "      </script>\n",
              "    </div>\n",
              "  </div>\n",
              "  "
            ],
            "text/plain": [
              "   Relative_Compactness  Surface_Area  Wall_Area  Roof_Area  Overall_Height  \\\n",
              "0                  0.98         514.5      294.0     110.25             7.0   \n",
              "1                  0.98         514.5      294.0     110.25             7.0   \n",
              "2                  0.98         514.5      294.0     110.25             7.0   \n",
              "3                  0.98         514.5      294.0     110.25             7.0   \n",
              "4                  0.90         563.5      318.5     122.50             7.0   \n",
              "\n",
              "   Orientation  Glazing_Area  Glazing_Area_Distribution  Heating_Load  \\\n",
              "0            2           0.0                          0         15.55   \n",
              "1            3           0.0                          0         15.55   \n",
              "2            4           0.0                          0         15.55   \n",
              "3            5           0.0                          0         15.55   \n",
              "4            2           0.0                          0         20.84   \n",
              "\n",
              "   Cooling_Load  \n",
              "0         21.33  \n",
              "1         21.33  \n",
              "2         21.33  \n",
              "3         21.33  \n",
              "4         28.28  "
            ]
          },
          "execution_count": 3,
          "metadata": {},
          "output_type": "execute_result"
        }
      ],
      "source": [
        "df = pd.read_csv('/content/gdrive/MyDrive/Data set/energy_efficiency_data.csv') # read data set by using read csv function\n",
        "df.head(5) # show 5 row of data set"
      ]
    },
    {
      "cell_type": "markdown",
      "metadata": {
        "id": "vQDtXTEGI367"
      },
      "source": [
        "**Analyze the correlations between all the variables in df ?**\n",
        "\n"
      ]
    },
    {
      "cell_type": "code",
      "execution_count": 4,
      "metadata": {
        "colab": {
          "base_uri": "https://localhost:8080/"
        },
        "id": "o9Yo-hvuhklj",
        "outputId": "8ac5262f-e679-4774-cdf9-8053ba882c2c"
      },
      "outputs": [
        {
          "name": "stdout",
          "output_type": "stream",
          "text": [
            "                           Relative_Compactness  Surface_Area     Wall_Area  \\\n",
            "Relative_Compactness               1.000000e+00 -9.919015e-01 -2.037817e-01   \n",
            "Surface_Area                      -9.919015e-01  1.000000e+00  1.955016e-01   \n",
            "Wall_Area                         -2.037817e-01  1.955016e-01  1.000000e+00   \n",
            "Roof_Area                         -8.688234e-01  8.807195e-01 -2.923165e-01   \n",
            "Overall_Height                     8.277473e-01 -8.581477e-01  2.809757e-01   \n",
            "Orientation                        4.678592e-17 -3.459372e-17 -2.429499e-17   \n",
            "Glazing_Area                      -2.960552e-15  3.636925e-15 -8.567455e-17   \n",
            "Glazing_Area_Distribution         -7.107006e-16  2.438409e-15  2.067384e-16   \n",
            "Heating_Load                       6.222722e-01 -6.581202e-01  4.556712e-01   \n",
            "Cooling_Load                       6.343391e-01 -6.729989e-01  4.271170e-01   \n",
            "\n",
            "                              Roof_Area  Overall_Height   Orientation  \\\n",
            "Relative_Compactness      -8.688234e-01    8.277473e-01  4.678592e-17   \n",
            "Surface_Area               8.807195e-01   -8.581477e-01 -3.459372e-17   \n",
            "Wall_Area                 -2.923165e-01    2.809757e-01 -2.429499e-17   \n",
            "Roof_Area                  1.000000e+00   -9.725122e-01 -5.830058e-17   \n",
            "Overall_Height            -9.725122e-01    1.000000e+00  4.492205e-17   \n",
            "Orientation               -5.830058e-17    4.492205e-17  1.000000e+00   \n",
            "Glazing_Area              -1.759011e-15    1.489134e-17 -9.406007e-16   \n",
            "Glazing_Area_Distribution -1.078071e-15   -2.920613e-17 -2.549352e-16   \n",
            "Heating_Load              -8.618283e-01    8.894307e-01 -2.586534e-03   \n",
            "Cooling_Load              -8.625466e-01    8.957852e-01  1.428960e-02   \n",
            "\n",
            "                           Glazing_Area  Glazing_Area_Distribution  \\\n",
            "Relative_Compactness      -2.960552e-15              -7.107006e-16   \n",
            "Surface_Area               3.636925e-15               2.438409e-15   \n",
            "Wall_Area                 -8.567455e-17               2.067384e-16   \n",
            "Roof_Area                 -1.759011e-15              -1.078071e-15   \n",
            "Overall_Height             1.489134e-17              -2.920613e-17   \n",
            "Orientation               -9.406007e-16              -2.549352e-16   \n",
            "Glazing_Area               1.000000e+00               2.129642e-01   \n",
            "Glazing_Area_Distribution  2.129642e-01               1.000000e+00   \n",
            "Heating_Load               2.698410e-01               8.736759e-02   \n",
            "Cooling_Load               2.075050e-01               5.052512e-02   \n",
            "\n",
            "                           Heating_Load  Cooling_Load  \n",
            "Relative_Compactness           0.622272      0.634339  \n",
            "Surface_Area                  -0.658120     -0.672999  \n",
            "Wall_Area                      0.455671      0.427117  \n",
            "Roof_Area                     -0.861828     -0.862547  \n",
            "Overall_Height                 0.889431      0.895785  \n",
            "Orientation                   -0.002587      0.014290  \n",
            "Glazing_Area                   0.269841      0.207505  \n",
            "Glazing_Area_Distribution      0.087368      0.050525  \n",
            "Heating_Load                   1.000000      0.975862  \n",
            "Cooling_Load                   0.975862      1.000000  \n"
          ]
        }
      ],
      "source": [
        "#Correlation between all the columns of DataFrame.\n",
        "df2=df.corr()\n",
        "print(df2)"
      ]
    },
    {
      "cell_type": "markdown",
      "metadata": {
        "id": "832ZvgwgJFcL"
      },
      "source": [
        "**Which explanatory variables are most correlated to the two target variables ?**"
      ]
    },
    {
      "cell_type": "code",
      "execution_count": 5,
      "metadata": {
        "colab": {
          "base_uri": "https://localhost:8080/"
        },
        "id": "njTqOW36JMnl",
        "outputId": "89d11109-a0d2-4a4a-f54a-2d59bf971b9f"
      },
      "outputs": [
        {
          "name": "stdout",
          "output_type": "stream",
          "text": [
            "0.9758618134328573\n"
          ]
        }
      ],
      "source": [
        "corr=df['Heating_Load'].corr(df['Cooling_Load']) # here our target variable is heating and cooling value so i find corelation b/w in these two column\n",
        "print(corr)"
      ]
    },
    {
      "cell_type": "markdown",
      "metadata": {
        "id": "Z3eN-45OMArc"
      },
      "source": [
        "**Import library for plot graph of corelation**"
      ]
    },
    {
      "cell_type": "code",
      "execution_count": 6,
      "metadata": {
        "id": "SXq4chsEMBZt"
      },
      "outputs": [],
      "source": [
        "import seaborn as sns\n",
        "import matplotlib.pyplot as plt"
      ]
    },
    {
      "cell_type": "markdown",
      "metadata": {
        "id": "p2KzJg6EO15J"
      },
      "source": [
        "**Plot Corelationship Of data set**"
      ]
    },
    {
      "cell_type": "code",
      "execution_count": 7,
      "metadata": {
        "colab": {
          "base_uri": "https://localhost:8080/",
          "height": 405
        },
        "id": "cmUd_KGXhCgX",
        "outputId": "3cedf300-6f19-4fe4-e1a5-91249485cd9c"
      },
      "outputs": [
        {
          "data": {
            "text/plain": [
              "<matplotlib.axes._subplots.AxesSubplot at 0x7fac71906e10>"
            ]
          },
          "execution_count": 7,
          "metadata": {},
          "output_type": "execute_result"
        },
        {
          "data": {
            "image/png": "[encoded data removed]",
            "text/plain": [
              "<Figure size 432x288 with 2 Axes>"
            ]
          },
          "metadata": {
            "needs_background": "light"
          },
          "output_type": "display_data"
        }
      ],
      "source": [
        "sns.heatmap(df.corr()) # heatmap for ploting"
      ]
    },
    {
      "cell_type": "markdown",
      "metadata": {
        "id": "DZf0FOxXP8cv"
      },
      "source": [
        "**Correlation of Independent Variables with the Dependent Variable**"
      ]
    },
    {
      "cell_type": "code",
      "execution_count": 8,
      "metadata": {
        "colab": {
          "base_uri": "https://localhost:8080/",
          "height": 820
        },
        "id": "HydPL9OOO85C",
        "outputId": "f47011d3-99d0-43a7-b3e0-627c0a0f3c9b"
      },
      "outputs": [
        {
          "name": "stderr",
          "output_type": "stream",
          "text": [
            "/usr/local/lib/python3.7/dist-packages/matplotlib/backends/backend_agg.py:214: RuntimeWarning: Glyph 9 missing from current font.\n",
            "  font.set_text(s, 0.0, flags=flags)\n",
            "/usr/local/lib/python3.7/dist-packages/matplotlib/backends/backend_agg.py:183: RuntimeWarning: Glyph 9 missing from current font.\n",
            "  font.set_text(s, 0, flags=flags)\n"
          ]
        },
        {
          "data": {
            "image/png": "[encoded data removed]",
            "text/plain": [
              "<Figure size 576x864 with 2 Axes>"
            ]
          },
          "metadata": {
            "needs_background": "light"
          },
          "output_type": "display_data"
        }
      ],
      "source": [
        "plt.figure(figsize=(8, 12)) # for ploting size\n",
        "heatmap = sns.heatmap(df.corr()[['Relative_Compactness']].sort_values(by='Relative_Compactness', ascending=False), vmin=-1, vmax=1, annot=True, ) # sort by Relative_Compactness\n",
        "heatmap.set_title('Features Correlating with Relative_Compactness\t', fontdict={'fontsize':18}, pad=16);"
      ]
    },
    {
      "cell_type": "markdown",
      "metadata": {
        "id": "pvYNb0ERQ4O_"
      },
      "source": [
        "**Check missing value**"
      ]
    },
    {
      "cell_type": "code",
      "execution_count": 9,
      "metadata": {
        "colab": {
          "base_uri": "https://localhost:8080/"
        },
        "id": "Bg-8TwieQpYl",
        "outputId": "2f2e1c86-dc10-4474-c28c-f2494c090bd6"
      },
      "outputs": [
        {
          "data": {
            "text/plain": [
              "Relative_Compactness         0\n",
              "Surface_Area                 0\n",
              "Wall_Area                    0\n",
              "Roof_Area                    0\n",
              "Overall_Height               0\n",
              "Orientation                  0\n",
              "Glazing_Area                 0\n",
              "Glazing_Area_Distribution    0\n",
              "Heating_Load                 0\n",
              "Cooling_Load                 0\n",
              "dtype: int64"
            ]
          },
          "execution_count": 9,
          "metadata": {},
          "output_type": "execute_result"
        }
      ],
      "source": [
        "df.isnull().sum() # check missing value which is necessery for model making"
      ]
    },
    {
      "cell_type": "markdown",
      "metadata": {
        "id": "Wckfx__RQ_Pi"
      },
      "source": [
        "**Data Set describtion**"
      ]
    },
    {
      "cell_type": "code",
      "execution_count": 10,
      "metadata": {
        "colab": {
          "base_uri": "https://localhost:8080/",
          "height": 364
        },
        "id": "nsiaLfYKREMq",
        "outputId": "d724cf81-35a7-4b9e-ab03-ac5bef2768b0"
      },
      "outputs": [
        {
          "data": {
            "text/html": [
              "\n",
              "  <div id=\"df-5c82516a-a4f0-470c-8b4a-0c6013b0634a\">\n",
              "    <div class=\"colab-df-container\">\n",
              "      <div>\n",
              "<style scoped>\n",
              "    .dataframe tbody tr th:only-of-type {\n",
              "        vertical-align: middle;\n",
              "    }\n",
              "\n",
              "    .dataframe tbody tr th {\n",
              "        vertical-align: top;\n",
              "    }\n",
              "\n",
              "    .dataframe thead th {\n",
              "        text-align: right;\n",
              "    }\n",
              "</style>\n",
              "<table border=\"1\" class=\"dataframe\">\n",
              "  <thead>\n",
              "    <tr style=\"text-align: right;\">\n",
              "      <th></th>\n",
              "      <th>Relative_Compactness</th>\n",
              "      <th>Surface_Area</th>\n",
              "      <th>Wall_Area</th>\n",
              "      <th>Roof_Area</th>\n",
              "      <th>Overall_Height</th>\n",
              "      <th>Orientation</th>\n",
              "      <th>Glazing_Area</th>\n",
              "      <th>Glazing_Area_Distribution</th>\n",
              "      <th>Heating_Load</th>\n",
              "      <th>Cooling_Load</th>\n",
              "    </tr>\n",
              "  </thead>\n",
              "  <tbody>\n",
              "    <tr>\n",
              "      <th>count</th>\n",
              "      <td>768.000000</td>\n",
              "      <td>768.000000</td>\n",
              "      <td>768.000000</td>\n",
              "      <td>768.000000</td>\n",
              "      <td>768.00000</td>\n",
              "      <td>768.000000</td>\n",
              "      <td>768.000000</td>\n",
              "      <td>768.00000</td>\n",
              "      <td>768.000000</td>\n",
              "      <td>768.000000</td>\n",
              "    </tr>\n",
              "    <tr>\n",
              "      <th>mean</th>\n",
              "      <td>0.764167</td>\n",
              "      <td>671.708333</td>\n",
              "      <td>318.500000</td>\n",
              "      <td>176.604167</td>\n",
              "      <td>5.25000</td>\n",
              "      <td>3.500000</td>\n",
              "      <td>0.234375</td>\n",
              "      <td>2.81250</td>\n",
              "      <td>22.307201</td>\n",
              "      <td>24.587760</td>\n",
              "    </tr>\n",
              "    <tr>\n",
              "      <th>std</th>\n",
              "      <td>0.105777</td>\n",
              "      <td>88.086116</td>\n",
              "      <td>43.626481</td>\n",
              "      <td>45.165950</td>\n",
              "      <td>1.75114</td>\n",
              "      <td>1.118763</td>\n",
              "      <td>0.133221</td>\n",
              "      <td>1.55096</td>\n",
              "      <td>10.090196</td>\n",
              "      <td>9.513306</td>\n",
              "    </tr>\n",
              "    <tr>\n",
              "      <th>min</th>\n",
              "      <td>0.620000</td>\n",
              "      <td>514.500000</td>\n",
              "      <td>245.000000</td>\n",
              "      <td>110.250000</td>\n",
              "      <td>3.50000</td>\n",
              "      <td>2.000000</td>\n",
              "      <td>0.000000</td>\n",
              "      <td>0.00000</td>\n",
              "      <td>6.010000</td>\n",
              "      <td>10.900000</td>\n",
              "    </tr>\n",
              "    <tr>\n",
              "      <th>25%</th>\n",
              "      <td>0.682500</td>\n",
              "      <td>606.375000</td>\n",
              "      <td>294.000000</td>\n",
              "      <td>140.875000</td>\n",
              "      <td>3.50000</td>\n",
              "      <td>2.750000</td>\n",
              "      <td>0.100000</td>\n",
              "      <td>1.75000</td>\n",
              "      <td>12.992500</td>\n",
              "      <td>15.620000</td>\n",
              "    </tr>\n",
              "    <tr>\n",
              "      <th>50%</th>\n",
              "      <td>0.750000</td>\n",
              "      <td>673.750000</td>\n",
              "      <td>318.500000</td>\n",
              "      <td>183.750000</td>\n",
              "      <td>5.25000</td>\n",
              "      <td>3.500000</td>\n",
              "      <td>0.250000</td>\n",
              "      <td>3.00000</td>\n",
              "      <td>18.950000</td>\n",
              "      <td>22.080000</td>\n",
              "    </tr>\n",
              "    <tr>\n",
              "      <th>75%</th>\n",
              "      <td>0.830000</td>\n",
              "      <td>741.125000</td>\n",
              "      <td>343.000000</td>\n",
              "      <td>220.500000</td>\n",
              "      <td>7.00000</td>\n",
              "      <td>4.250000</td>\n",
              "      <td>0.400000</td>\n",
              "      <td>4.00000</td>\n",
              "      <td>31.667500</td>\n",
              "      <td>33.132500</td>\n",
              "    </tr>\n",
              "    <tr>\n",
              "      <th>max</th>\n",
              "      <td>0.980000</td>\n",
              "      <td>808.500000</td>\n",
              "      <td>416.500000</td>\n",
              "      <td>220.500000</td>\n",
              "      <td>7.00000</td>\n",
              "      <td>5.000000</td>\n",
              "      <td>0.400000</td>\n",
              "      <td>5.00000</td>\n",
              "      <td>43.100000</td>\n",
              "      <td>48.030000</td>\n",
              "    </tr>\n",
              "  </tbody>\n",
              "</table>\n",
              "</div>\n",
              "      <button class=\"colab-df-convert\" onclick=\"convertToInteractive('df-5c82516a-a4f0-470c-8b4a-0c6013b0634a')\"\n",
              "              title=\"Convert this dataframe to an interactive table.\"\n",
              "              style=\"display:none;\">\n",
              "        \n",
              "  <svg xmlns=\"http://www.w3.org/2000/svg\" height=\"24px\"viewBox=\"0 0 24 24\"\n",
              "       width=\"24px\">\n",
              "    <path d=\"M0 0h24v24H0V0z\" fill=\"none\"/>\n",
              "    <path d=\"M18.56 5.44l.94 2.06.94-2.06 2.06-.94-2.06-.94-.94-2.06-.94 2.06-2.06.94zm-11 1L8.5 8.5l.94-2.06 2.06-.94-2.06-.94L8.5 2.5l-.94 2.06-2.06.94zm10 10l.94 2.06.94-2.06 2.06-.94-2.06-.94-.94-2.06-.94 2.06-2.06.94z\"/><path d=\"M17.41 7.96l-1.37-1.37c-.4-.4-.92-.59-1.43-.59-.52 0-1.04.2-1.43.59L10.3 9.45l-7.72 7.72c-.78.78-.78 2.05 0 2.83L4 21.41c.39.39.9.59 1.41.59.51 0 1.02-.2 1.41-.59l7.78-7.78 2.81-2.81c.8-.78.8-2.07 0-2.86zM5.41 20L4 18.59l7.72-7.72 1.47 1.35L5.41 20z\"/>\n",
              "  </svg>\n",
              "      </button>\n",
              "      \n",
              "  <style>\n",
              "    .colab-df-container {\n",
              "      display:flex;\n",
              "      flex-wrap:wrap;\n",
              "      gap: 12px;\n",
              "    }\n",
              "\n",
              "    .colab-df-convert {\n",
              "      background-color: #E8F0FE;\n",
              "      border: none;\n",
              "      border-radius: 50%;\n",
              "      cursor: pointer;\n",
              "      display: none;\n",
              "      fill: #1967D2;\n",
              "      height: 32px;\n",
              "      padding: 0 0 0 0;\n",
              "      width: 32px;\n",
              "    }\n",
              "\n",
              "    .colab-df-convert:hover {\n",
              "      background-color: #E2EBFA;\n",
              "      box-shadow: 0px 1px 2px rgba(60, 64, 67, 0.3), 0px 1px 3px 1px rgba(60, 64, 67, 0.15);\n",
              "      fill: #174EA6;\n",
              "    }\n",
              "\n",
              "    [theme=dark] .colab-df-convert {\n",
              "      background-color: #3B4455;\n",
              "      fill: #D2E3FC;\n",
              "    }\n",
              "\n",
              "    [theme=dark] .colab-df-convert:hover {\n",
              "      background-color: #434B5C;\n",
              "      box-shadow: 0px 1px 3px 1px rgba(0, 0, 0, 0.15);\n",
              "      filter: drop-shadow(0px 1px 2px rgba(0, 0, 0, 0.3));\n",
              "      fill: #FFFFFF;\n",
              "    }\n",
              "  </style>\n",
              "\n",
              "      <script>\n",
              "        const buttonEl =\n",
              "          document.querySelector('#df-5c82516a-a4f0-470c-8b4a-0c6013b0634a button.colab-df-convert');\n",
              "        buttonEl.style.display =\n",
              "          google.colab.kernel.accessAllowed ? 'block' : 'none';\n",
              "\n",
              "        async function convertToInteractive(key) {\n",
              "          const element = document.querySelector('#df-5c82516a-a4f0-470c-8b4a-0c6013b0634a');\n",
              "          const dataTable =\n",
              "            await google.colab.kernel.invokeFunction('convertToInteractive',\n",
              "                                                     [key], {});\n",
              "          if (!dataTable) return;\n",
              "\n",
              "          const docLinkHtml = 'Like what you see? Visit the ' +\n",
              "            '<a target=\"_blank\" href=https://colab.research.google.com/notebooks/data_table.ipynb>data table notebook</a>'\n",
              "            + ' to learn more about interactive tables.';\n",
              "          element.innerHTML = '';\n",
              "          dataTable['output_type'] = 'display_data';\n",
              "          await google.colab.output.renderOutput(dataTable, element);\n",
              "          const docLink = document.createElement('div');\n",
              "          docLink.innerHTML = docLinkHtml;\n",
              "          element.appendChild(docLink);\n",
              "        }\n",
              "      </script>\n",
              "    </div>\n",
              "  </div>\n",
              "  "
            ],
            "text/plain": [
              "       Relative_Compactness  Surface_Area   Wall_Area   Roof_Area  \\\n",
              "count            768.000000    768.000000  768.000000  768.000000   \n",
              "mean               0.764167    671.708333  318.500000  176.604167   \n",
              "std                0.105777     88.086116   43.626481   45.165950   \n",
              "min                0.620000    514.500000  245.000000  110.250000   \n",
              "25%                0.682500    606.375000  294.000000  140.875000   \n",
              "50%                0.750000    673.750000  318.500000  183.750000   \n",
              "75%                0.830000    741.125000  343.000000  220.500000   \n",
              "max                0.980000    808.500000  416.500000  220.500000   \n",
              "\n",
              "       Overall_Height  Orientation  Glazing_Area  Glazing_Area_Distribution  \\\n",
              "count       768.00000   768.000000    768.000000                  768.00000   \n",
              "mean          5.25000     3.500000      0.234375                    2.81250   \n",
              "std           1.75114     1.118763      0.133221                    1.55096   \n",
              "min           3.50000     2.000000      0.000000                    0.00000   \n",
              "25%           3.50000     2.750000      0.100000                    1.75000   \n",
              "50%           5.25000     3.500000      0.250000                    3.00000   \n",
              "75%           7.00000     4.250000      0.400000                    4.00000   \n",
              "max           7.00000     5.000000      0.400000                    5.00000   \n",
              "\n",
              "       Heating_Load  Cooling_Load  \n",
              "count    768.000000    768.000000  \n",
              "mean      22.307201     24.587760  \n",
              "std       10.090196      9.513306  \n",
              "min        6.010000     10.900000  \n",
              "25%       12.992500     15.620000  \n",
              "50%       18.950000     22.080000  \n",
              "75%       31.667500     33.132500  \n",
              "max       43.100000     48.030000  "
            ]
          },
          "execution_count": 10,
          "metadata": {},
          "output_type": "execute_result"
        }
      ],
      "source": [
        "df.describe() # check Data Set describtion  which is also necessery for model making"
      ]
    },
    {
      "cell_type": "markdown",
      "metadata": {
        "id": "uC-yg8nJRoWt"
      },
      "source": [
        "**MODELLING**"
      ]
    },
    {
      "cell_type": "code",
      "execution_count": 11,
      "metadata": {
        "id": "0gOJoIuARSvR"
      },
      "outputs": [],
      "source": [
        "X = df.drop(['Heating_Load','Cooling_Load'],axis=1) # here i copy data of two column and assign into y1 & y2\n",
        "y1 = df['Heating_Load']\n",
        "y2 = df['Cooling_Load']"
      ]
    },
    {
      "cell_type": "markdown",
      "metadata": {
        "id": "LoSzeavsXSxi"
      },
      "source": [
        "**Train split**"
      ]
    },
    {
      "cell_type": "code",
      "execution_count": 12,
      "metadata": {
        "id": "OtGFF60RXc6W"
      },
      "outputs": [],
      "source": [
        "from sklearn.model_selection import train_test_split # import for data set spit \n",
        "train_X, test_X, train_y, test_y = train_test_split(X, y1,test_size = 0.2, random_state = 123)# Separate the data into a training set and a test set (20%)"
      ]
    },
    {
      "cell_type": "markdown",
      "metadata": {
        "id": "jc9DNXyqUVcG"
      },
      "source": [
        "**HEATING LOAD PREDICTION**"
      ]
    },
    {
      "cell_type": "code",
      "execution_count": 13,
      "metadata": {
        "id": "aJsCsD8fS9V_"
      },
      "outputs": [],
      "source": [
        "HEATING_LOAD_MODELS = [] # list for heating \n",
        "HEATING_LOAD_SCORES = [] # list for score"
      ]
    },
    {
      "cell_type": "markdown",
      "metadata": {
        "id": "upHc8DUbYnJG"
      },
      "source": [
        "**Random forest**"
      ]
    },
    {
      "cell_type": "code",
      "execution_count": 14,
      "metadata": {
        "colab": {
          "base_uri": "https://localhost:8080/"
        },
        "id": "V5oFvSRYUeSI",
        "outputId": "4ca437b7-7d26-44a6-eae1-1f434bb545a6"
      },
      "outputs": [
        {
          "name": "stdout",
          "output_type": "stream",
          "text": [
            "0.965026402959408\n"
          ]
        }
      ],
      "source": [
        "from sklearn.model_selection import cross_val_score\n",
        "from sklearn.ensemble import RandomForestRegressor\n",
        "rfr = RandomForestRegressor()\n",
        "scores = cross_val_score(rfr, X, y1, cv=5)\n",
        "print(np.mean(scores))\n",
        "HEATING_LOAD_MODELS.append('Random Forest')\n",
        "HEATING_LOAD_SCORES.append(np.mean(scores))"
      ]
    },
    {
      "cell_type": "markdown",
      "metadata": {
        "id": "GT8HWFTmYx6-"
      },
      "source": [
        "**k-nearest neighbor**"
      ]
    },
    {
      "cell_type": "code",
      "execution_count": 15,
      "metadata": {
        "colab": {
          "base_uri": "https://localhost:8080/"
        },
        "id": "Z8DlO9a1Y3kM",
        "outputId": "ab46bda1-bbe1-4fb6-f525-587aed8fc71f"
      },
      "outputs": [
        {
          "name": "stdout",
          "output_type": "stream",
          "text": [
            "0.8959998065556167\n"
          ]
        }
      ],
      "source": [
        "from sklearn.neighbors import KNeighborsClassifier\n",
        "knn = KNeighborsClassifier(n_neighbors=50) # n_neighbors is 7 as per requrment b/w 2 to 5 \n",
        "scoresknn = cross_val_score(knn, X, y1, cv=3)\n",
        "print(np.mean(scoresknn))\n",
        "HEATING_LOAD_MODELS.append('Knn')\n",
        "HEATING_LOAD_SCORES.append(np.mean(scoresknn))"
      ]
    },
    {
      "cell_type": "markdown",
      "metadata": {
        "id": "HBLLGXSOZ5qn"
      },
      "source": [
        "**Support Vector Machine**"
      ]
    },
    {
      "cell_type": "code",
      "execution_count": 16,
      "metadata": {
        "colab": {
          "base_uri": "https://localhost:8080/"
        },
        "id": "iGAeM5LGaP-_",
        "outputId": "144cfe3b-2690-452a-95e4-4ed993415fac"
      },
      "outputs": [
        {
          "name": "stdout",
          "output_type": "stream",
          "text": [
            "0.9012381677129342\n"
          ]
        }
      ],
      "source": [
        "# import support vector classifier \n",
        "# \"Support Vector Classifier\"\n",
        "from sklearn.svm import SVC  \n",
        "clf = SVC(kernel='linear') \n",
        "scoressvm = cross_val_score(clf, X, y1, cv=2)\n",
        "print(np.mean(scoressvm))\n",
        "HEATING_LOAD_MODELS.append('Svm')\n",
        "HEATING_LOAD_SCORES.append(np.mean(scoressvm))"
      ]
    },
    {
      "cell_type": "markdown",
      "metadata": {
        "id": "vrXuTeneb5Zt"
      },
      "source": [
        "**COOLING LOAD PREDICTION**"
      ]
    },
    {
      "cell_type": "code",
      "execution_count": 17,
      "metadata": {
        "id": "QqQU4-Wybtso"
      },
      "outputs": [],
      "source": [
        "COOLING_LOAD_MODELS = [] # list for cooling \n",
        "COOLING_LOAD_SCORES = [] # list for scores "
      ]
    },
    {
      "cell_type": "markdown",
      "metadata": {
        "id": "xQo9znVhcYPh"
      },
      "source": [
        "**Random forest**"
      ]
    },
    {
      "cell_type": "code",
      "execution_count": 18,
      "metadata": {
        "colab": {
          "base_uri": "https://localhost:8080/"
        },
        "id": "BR1A9-wubtpD",
        "outputId": "7360442a-110b-4bde-d7ce-aa782fa13ae6"
      },
      "outputs": [
        {
          "name": "stdout",
          "output_type": "stream",
          "text": [
            "0.9580336454942622\n"
          ]
        }
      ],
      "source": [
        "from sklearn.model_selection import cross_val_score # import cross validation\n",
        "from sklearn.ensemble import RandomForestRegressor\n",
        "rfr = RandomForestRegressor()\n",
        "scores = cross_val_score(rfr, X, y2, cv=5)\n",
        "print(np.mean(scores))\n",
        "COOLING_LOAD_MODELS.append('Random Forest')\n",
        "COOLING_LOAD_SCORES.append(np.mean(scores))"
      ]
    },
    {
      "cell_type": "markdown",
      "metadata": {
        "id": "kF9Hxz78csVD"
      },
      "source": [
        "**k-nearest neighbor**"
      ]
    },
    {
      "cell_type": "code",
      "execution_count": 22,
      "metadata": {
        "colab": {
          "base_uri": "https://localhost:8080/"
        },
        "id": "lQPSxsWsbtlm",
        "outputId": "f4e28b9c-4782-4e82-c460-20b3215ae192"
      },
      "outputs": [
        {
          "name": "stdout",
          "output_type": "stream",
          "text": [
            "0.8959262979138605\n"
          ]
        }
      ],
      "source": [
        "from sklearn.neighbors import KNeighborsClassifier\n",
        "knn = KNeighborsClassifier(n_neighbors=50) # n_neighbors is 7 as per requrment b/w 2 to 5 \n",
        "scoresknn = cross_val_score(knn, X, y1, cv=3)\n",
        "print(np.mean(scoresknn))\n",
        "COOLING_LOAD_MODELS.append('Knn')\n",
        "COOLING_LOAD_SCORES.append(np.mean(scoresknn))"
      ]
    },
    {
      "cell_type": "markdown",
      "metadata": {
        "id": "Zn-HqYf3dN6Y"
      },
      "source": [
        "**Support Vector Machine**"
      ]
    },
    {
      "cell_type": "code",
      "execution_count": 19,
      "metadata": {
        "colab": {
          "base_uri": "https://localhost:8080/"
        },
        "id": "8maTT5gxbtix",
        "outputId": "7bb5b894-7c2c-4521-c004-49fa124af240"
      },
      "outputs": [
        {
          "name": "stdout",
          "output_type": "stream",
          "text": [
            "0.9012969701444479\n"
          ]
        }
      ],
      "source": [
        "# import support vector classifier \n",
        "# \"Support Vector Classifier\"\n",
        "from sklearn.svm import SVC  \n",
        "clf = SVC(kernel='linear') \n",
        "scoressvm = cross_val_score(clf, X, y1, cv=2)\n",
        "print(np.mean(scoressvm))\n",
        "COOLING_LOAD_MODELS.append('Svm')\n",
        "COOLING_LOAD_SCORES.append(np.mean(scoressvm))"
      ]
    },
    {
      "cell_type": "markdown",
      "metadata": {
        "id": "SIebHWR5di4p"
      },
      "source": [
        "**SCORES**"
      ]
    },
    {
      "cell_type": "markdown",
      "metadata": {
        "id": "WF4kGc4Bfh8w"
      },
      "source": [
        "**HEATING LOAD PREDICTION SCORE**"
      ]
    },
    {
      "cell_type": "code",
      "execution_count": 20,
      "metadata": {
        "colab": {
          "base_uri": "https://localhost:8080/"
        },
        "id": "TRWhuSD4c0hw",
        "outputId": "9bd4e14c-cae0-4cf7-99bb-d28108bbd3ff"
      },
      "outputs": [
        {
          "name": "stdout",
          "output_type": "stream",
          "text": [
            "HEATING LOAD PREDICTION SCORE\n",
            "╒═══════════════╤══════════╕\n",
            "│ Model         │    Score │\n",
            "╞═══════════════╪══════════╡\n",
            "│ Random Forest │ 0.965026 │\n",
            "├───────────────┼──────────┤\n",
            "│ Knn           │ 0.896    │\n",
            "├───────────────┼──────────┤\n",
            "│ Svm           │ 0.901238 │\n",
            "╘═══════════════╧══════════╛\n"
          ]
        }
      ],
      "source": [
        "from tabulate import tabulate # for show table form\n",
        "table = [['Model','Score']]\n",
        "for i in range(len(HEATING_LOAD_MODELS)):\n",
        "    table.append([HEATING_LOAD_MODELS[i],HEATING_LOAD_SCORES[i]])\n",
        "print('HEATING LOAD PREDICTION SCORE')\n",
        "print(tabulate(table,headers='firstrow',tablefmt='fancy_grid'))"
      ]
    },
    {
      "cell_type": "markdown",
      "metadata": {
        "id": "OPQzZ6pyfdVz"
      },
      "source": [
        "**Cooling LOAD PREDICTION SCORE**"
      ]
    },
    {
      "cell_type": "code",
      "execution_count": 23,
      "metadata": {
        "colab": {
          "base_uri": "https://localhost:8080/"
        },
        "id": "uI223YGgc04j",
        "outputId": "6dfb98b4-e21b-470f-c191-156d7d0d072e"
      },
      "outputs": [
        {
          "name": "stdout",
          "output_type": "stream",
          "text": [
            "Cooling LOAD PREDICTION SCORE\n",
            "╒═══════════════╤══════════╕\n",
            "│ Model         │    Score │\n",
            "╞═══════════════╪══════════╡\n",
            "│ Random Forest │ 0.958034 │\n",
            "├───────────────┼──────────┤\n",
            "│ Svm           │ 0.901297 │\n",
            "├───────────────┼──────────┤\n",
            "│ Knn           │ 0.895926 │\n",
            "╘═══════════════╧══════════╛\n"
          ]
        }
      ],
      "source": [
        "from tabulate import tabulate # for show table form\n",
        "table = [['Model','Score']]\n",
        "for i in range(len(COOLING_LOAD_MODELS)):\n",
        "    table.append([COOLING_LOAD_MODELS[i],COOLING_LOAD_SCORES[i]])\n",
        "print('Cooling LOAD PREDICTION SCORE')\n",
        "print(tabulate(table,headers='firstrow',tablefmt='fancy_grid'))"
      ]
    },
    {
      "cell_type": "code",
      "execution_count": null,
      "metadata": {
        "id": "6zyCmDvUc1QD"
      },
      "outputs": [],
      "source": []
    },
    {
      "cell_type": "code",
      "execution_count": null,
      "metadata": {
        "id": "QrYSCheQc1mM"
      },
      "outputs": [],
      "source": []
    },
    {
      "cell_type": "code",
      "execution_count": null,
      "metadata": {
        "id": "iQzaMZ17faHp"
      },
      "outputs": [],
      "source": []
    }
  ],
  "metadata": {
    "colab": {
      "collapsed_sections": [],
      "name": "Energy_Efficiency.ipynb",
      "provenance": []
    },
    "kernelspec": {
      "display_name": "Python 3",
      "name": "python3"
    },
    "language_info": {
      "name": "python"
    }
  },
  "nbformat": 4,
  "nbformat_minor": 0
}
